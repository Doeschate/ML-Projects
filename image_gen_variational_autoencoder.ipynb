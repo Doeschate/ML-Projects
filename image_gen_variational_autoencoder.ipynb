{
  "cells": [
    {
      "cell_type": "markdown",
      "metadata": {
        "id": "vuI9LoVmpJME"
      },
      "source": [
        "#   Image generatation using variational auto encoder\n",
        "\n"
      ]
    },
    {
      "cell_type": "code",
      "execution_count": null,
      "metadata": {
        "id": "SNX3Cp9kpJMJ"
      },
      "outputs": [],
      "source": [
        "%matplotlib inline\n",
        "import torch\n",
        "import torch.nn as nn\n",
        "from torch.utils.data import DataLoader\n",
        "from torchvision.datasets import MNIST\n",
        "import torchvision.transforms as transforms\n",
        "import torchvision.utils\n",
        "import matplotlib.pyplot as plt\n",
        "from tqdm import tqdm\n",
        "import numpy as np\n",
        "\n"
      ]
    },
    {
      "cell_type": "markdown",
      "metadata": {
        "id": "6sZahnOIVQp6"
      },
      "source": [
        "1) Download the dataset"
      ]
    },
    {
      "cell_type": "code",
      "execution_count": null,
      "metadata": {
        "id": "cLzeH9QypJMS"
      },
      "outputs": [],
      "source": [
        "\n",
        "\n",
        "train = MNIST(root='./data/MNIST', download=True, train=True, transform=transforms.Compose([\n",
        "    transforms.ToTensor()\n",
        "]))\n",
        "train_loader = DataLoader(train, batch_size=128, shuffle=True)\n",
        "\n",
        "test = MNIST(root='./data/MNIST', download=True, train=False, transform=transforms.Compose([\n",
        "    transforms.ToTensor()\n",
        "]))\n",
        "test_loader = DataLoader(test, batch_size=128, shuffle=True)"
      ]
    },
    {
      "cell_type": "markdown",
      "metadata": {
        "id": "dDdZ3VOFVQp-"
      },
      "source": [
        "2) Define the model"
      ]
    },
    {
      "cell_type": "code",
      "execution_count": null,
      "metadata": {
        "id": "vRGQfF06pJMV"
      },
      "outputs": [],
      "source": [
        "class Encoder(nn.Module):\n",
        "    def __init__(self):\n",
        "        super(Encoder, self).__init__()\n",
        "        self.conv1 = nn.Conv2d(in_channels=1, out_channels=64, kernel_size=4, stride=2, padding=1)\n",
        "        self.conv2 = nn.Conv2d(in_channels=64, out_channels=128, kernel_size=4, stride=2, padding=1)\n",
        "        self.conv3 = nn.Conv2d(in_channels=128, out_channels=256, kernel_size=4, stride=2, padding=1)\n",
        "        self.fc_mu = nn.Linear(in_features=256*3*3, out_features=2)\n",
        "        self.fc_logvar = nn.Linear(in_features=256*3*3, out_features=2)\n",
        "        self.relu = nn.ReLU()\n",
        "\n",
        "    def forward(self, x):\n",
        "        x =self.relu(self.conv1(x))\n",
        "        x =self.relu(self.conv2(x))\n",
        "        x =self.relu(self.conv3(x))\n",
        "        x =x.view(x.size(0), -1)\n",
        "        x_mu = self.fc_mu(x)\n",
        "        x_logvar = self.fc_logvar(x)\n",
        "        return x_mu, x_logvar\n",
        "\n",
        "class Decoder(nn.Module):\n",
        "    def __init__(self):\n",
        "        super(Decoder, self).__init__()\n",
        "        self.fc = nn.Linear(in_features=2, out_features=256*4*4)\n",
        "        self.conv3 = nn.ConvTranspose2d(in_channels=256, out_channels=64*2, kernel_size=4, stride=2, padding=1)\n",
        "        self.conv2 = nn.ConvTranspose2d(in_channels=64*2, out_channels=64, kernel_size=4, stride=2, padding=1)\n",
        "        self.conv1 = nn.ConvTranspose2d(in_channels=64, out_channels=1, kernel_size=4, stride=2, padding=3)\n",
        "        self.relu = nn.ReLU()\n",
        "\n",
        "    def forward(self, x):\n",
        "        x = self.fc(x)\n",
        "        x = x.view(x.size(0), 256, 4,4)\n",
        "        x = self.relu(self.conv3(x))\n",
        "        x = self.relu(self.conv2(x))\n",
        "        x = torch.sigmoid(self.conv1(x))\n",
        "        return x\n",
        "\n",
        "class VariationalAutoencoder(nn.Module):\n",
        "    def __init__(self):\n",
        "        super(VariationalAutoencoder, self).__init__()\n",
        "        self.encoder = Encoder()\n",
        "        self.decoder = Decoder()\n",
        "\n",
        "    def forward(self, x):\n",
        "        latent_mean, latent_log_variance = self.encoder(x)\n",
        "        latent_representation = self.sample_latent_representation(latent_mean, latent_log_variance)\n",
        "        reconstructed_image = self.decoder(latent_representation)\n",
        "        return reconstructed_image, latent_mean, latent_log_variance\n",
        "\n",
        "    def sample_latent_representation(self, latent_mean, latent_log_variance):\n",
        "        if self.training:\n",
        "            # reparameterization trick\n",
        "            latent_standard_deviation = torch.exp(torch.mul(.5,latent_log_variance))\n",
        "            sample_from_normal_distr = torch.empty_like(latent_standard_deviation).normal_()\n",
        "            return torch.add(torch.mul(sample_from_normal_distr,latent_standard_deviation) , latent_mean)\n",
        "        else:\n",
        "            return latent_mean\n",
        "\n",
        "\n"
      ]
    },
    {
      "cell_type": "markdown",
      "metadata": {
        "id": "y0Ll9kyCVQqC"
      },
      "source": [
        "3) Define loss for variation auto encoder"
      ]
    },
    {
      "cell_type": "code",
      "execution_count": null,
      "metadata": {
        "id": "_V2mzKslVQqE"
      },
      "outputs": [],
      "source": [
        "variational_beta = 1\n",
        "def vae_loss(image , reconstructed_image, latent_mean, latent_log_variance):\n",
        "    recontruction_loss = torch.nn.functional.binary_cross_entropy(reconstructed_image.view(-1, 784), image.view(-1, 784), reduction='sum')\n",
        "    kl_divergence_with_normal = torch.mul(-.5, torch.sum(1 + latent_log_variance - torch.pow(latent_mean,2) - torch.exp(latent_log_variance)))\n",
        "    return recontruction_loss + variational_beta * kl_divergence_with_normal\n",
        "\n",
        "\n"
      ]
    },
    {
      "cell_type": "markdown",
      "metadata": {
        "id": "dG2PmZbwVQqF"
      },
      "source": [
        "4) Create the objects"
      ]
    },
    {
      "cell_type": "code",
      "source": [
        "vae = VariationalAutoencoder()\n",
        "device = torch.device(\"cuda:0\" if torch.cuda.is_available() else \"cpu\")\n",
        "vae = vae.to(device)\n",
        "optimizer = torch.optim.Adam(params=vae.parameters(), lr=1e-3 , weight_decay=1e-5)"
      ],
      "metadata": {
        "id": "bxy8DjMTVpFg"
      },
      "execution_count": null,
      "outputs": []
    },
    {
      "cell_type": "markdown",
      "metadata": {
        "id": "thWTIiChVQqJ"
      },
      "source": [
        "5) Train the Model"
      ]
    },
    {
      "cell_type": "code",
      "execution_count": null,
      "metadata": {
        "colab": {
          "base_uri": "https://localhost:8080/",
          "height": 296
        },
        "id": "O5rtCUiTpJMZ",
        "outputId": "ecdde949-0aa0-47b4-bb27-24abd8421e82",
        "scrolled": true
      },
      "outputs": [
        {
          "output_type": "stream",
          "name": "stderr",
          "text": [
            "100%|██████████| 10/10 [01:42<00:00, 10.24s/it]\n"
          ]
        },
        {
          "output_type": "display_data",
          "data": {
            "text/plain": [
              "<Figure size 432x288 with 1 Axes>"
            ],
            "image/png": "[encoded data removed]"
          },
          "metadata": {
            "needs_background": "light"
          }
        }
      ],
      "source": [
        "vae.train()\n",
        "training_loss = []\n",
        "for _ in tqdm(range(10)):\n",
        "    epoch_loss = 0\n",
        "    num_batches = 0\n",
        "    for X, _ in train_loader:\n",
        "        X = X.to(device)\n",
        "        X_reconstructed, X_latent_mean, X_latent_log_variance = vae(X)\n",
        "        loss = vae_loss(X,X_reconstructed , X_latent_mean, X_latent_log_variance)\n",
        "        optimizer.zero_grad()\n",
        "        loss.backward()\n",
        "        optimizer.step()\n",
        "        epoch_loss += loss.item()\n",
        "        num_batches += 1\n",
        "    training_loss.append(epoch_loss / num_batches)\n",
        "plt.ion()\n",
        "fig = plt.figure()\n",
        "plt.plot(training_loss)\n",
        "plt.xlabel('Epochs')\n",
        "plt.ylabel('Loss')\n",
        "plt.show()"
      ]
    },
    {
      "cell_type": "markdown",
      "metadata": {
        "id": "4YYgInAjVQqL"
      },
      "source": [
        "6) Validate the model"
      ]
    },
    {
      "cell_type": "code",
      "execution_count": null,
      "metadata": {
        "id": "xJUqHru2pJMf",
        "colab": {
          "base_uri": "https://localhost:8080/"
        },
        "outputId": "46b4189f-8f55-42d0-9cac-a9ed69acbded"
      },
      "outputs": [
        {
          "output_type": "stream",
          "name": "stdout",
          "text": [
            "Testing Loss: 18318.383020\n"
          ]
        }
      ],
      "source": [
        "vae.eval()\n",
        "\n",
        "test_loss_avg, num_batches = 0, 0\n",
        "for X, _ in test_loader:\n",
        "    with torch.no_grad():\n",
        "        X = X.to(device)\n",
        "        X_reconstructed, X_latent_mean, X_latent_log_variance = vae(X)\n",
        "        loss = vae_loss( X,X_reconstructed, X_latent_mean, X_latent_log_variance)\n",
        "        test_loss_avg += loss.item()\n",
        "        num_batches += 1\n",
        "\n",
        "test_loss_avg /= num_batches\n",
        "print('Testing Loss: %f' % (test_loss_avg))"
      ]
    },
    {
      "cell_type": "markdown",
      "metadata": {
        "id": "QoJ72sezVQqO"
      },
      "source": [
        "7) Sample random image"
      ]
    },
    {
      "cell_type": "code",
      "execution_count": null,
      "metadata": {
        "id": "Tx_sA6bBpJMk",
        "colab": {
          "base_uri": "https://localhost:8080/",
          "height": 114
        },
        "outputId": "e84d79b7-0908-4b5f-9886-0487212a693c"
      },
      "outputs": [
        {
          "output_type": "display_data",
          "data": {
            "text/plain": [
              "<Figure size 720x1440 with 1 Axes>"
            ],
            "image/png": "[encoded data removed]"
          },
          "metadata": {
            "needs_background": "light"
          }
        }
      ],
      "source": [
        "vae.eval()\n",
        "plt.ion()\n",
        "\n",
        "def plot(img):\n",
        "    img = img.clamp(0, 1).numpy()\n",
        "    plt.imshow(np.transpose(img, (1, 2, 0)))\n",
        "\n",
        "with torch.no_grad():\n",
        "    random_noise_input = torch.randn(10, 2, device=device)\n",
        "    image_generated_by_decoder = vae.decoder(random_noise_input)\n",
        "    image_generated_by_decoder = image_generated_by_decoder.cpu()\n",
        "    fig, ax = plt.subplots(figsize=(10, 20))\n",
        "    plot(torchvision.utils.make_grid(image_generated_by_decoder.data,10,5))\n",
        "    plt.show()"
      ]
    }
  ],
  "metadata": {
    "accelerator": "GPU",
    "colab": {
      "provenance": []
    },
    "gpuClass": "standard",
    "kernelspec": {
      "display_name": "Python 3",
      "language": "python",
      "name": "python3"
    },
    "language_info": {
      "codemirror_mode": {
        "name": "ipython",
        "version": 3
      },
      "file_extension": ".py",
      "mimetype": "text/x-python",
      "name": "python",
      "nbconvert_exporter": "python",
      "pygments_lexer": "ipython3",
      "version": "3.7.3"
    }
  },
  "nbformat": 4,
  "nbformat_minor": 0
}